def myFunc(a, b):
  return a + b

  myFunc(2, 3)